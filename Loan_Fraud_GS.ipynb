{
 "cells": [
  {
   "cell_type": "code",
   "execution_count": 1,
   "id": "f72eb002-1614-4495-821b-d36882a982e9",
   "metadata": {},
   "outputs": [],
   "source": [
    "import numpy as np\n",
    "import pandas as pd\n",
    "import math\n",
    "import time\n",
    "import matplotlib.pyplot as plt"
   ]
  },
  {
   "cell_type": "code",
   "execution_count": 2,
   "id": "b6484c70-f26e-4e76-aec4-f56b8b39c7f8",
   "metadata": {},
   "outputs": [],
   "source": [
    "from sklearn.preprocessing import OneHotEncoder\n",
    "from sklearn.model_selection import train_test_split\n",
    "from sklearn.ensemble import RandomForestClassifier\n",
    "from sklearn.model_selection import GridSearchCV"
   ]
  },
  {
   "cell_type": "code",
   "execution_count": 158,
   "id": "583e0a31-03a3-468f-bee0-f5437f144ee3",
   "metadata": {},
   "outputs": [],
   "source": [
    "from sklearn import ensemble"
   ]
  },
  {
   "cell_type": "code",
   "execution_count": 3,
   "id": "ca43f430-aa8c-4391-b19f-b11bda604afb",
   "metadata": {},
   "outputs": [
    {
     "name": "stderr",
     "output_type": "stream",
     "text": [
      "/var/folders/3v/m7ykfptx4bn621t68jmzkl580000gn/T/ipykernel_2096/787853019.py:1: DtypeWarning: Columns (0,19,55) have mixed types. Specify dtype option on import or set low_memory=False.\n",
      "  data = pd.read_csv('LoanStats_2016Q3.csv', sep=',', header=1)\n"
     ]
    }
   ],
   "source": [
    "data = pd.read_csv('LoanStats_2016Q3.csv', sep=',', header=1)\n",
    "intro = pd.read_excel('LCDataDictionary.xlsx')"
   ]
  },
  {
   "cell_type": "code",
   "execution_count": 4,
   "id": "ac263734-138f-4955-92b2-8f211728b7f2",
   "metadata": {},
   "outputs": [],
   "source": [
    "data = data.drop([99120, 99121], axis = 0)"
   ]
  },
  {
   "cell_type": "code",
   "execution_count": 5,
   "id": "9efdb149-7609-42c7-9069-a7a3fd6f2906",
   "metadata": {},
   "outputs": [],
   "source": [
    "data = data.dropna(how='all', axis = 1)"
   ]
  },
  {
   "cell_type": "code",
   "execution_count": 6,
   "id": "64b08036-3b9f-437c-830d-d01a69579f82",
   "metadata": {},
   "outputs": [],
   "source": [
    "data = data.dropna(how='all', axis = 0)"
   ]
  },
  {
   "cell_type": "code",
   "execution_count": 8,
   "id": "4f313bb7-9c84-44fd-a5aa-1ef9d714f6f3",
   "metadata": {},
   "outputs": [],
   "source": [
    "data = data.drop('funded_amnt', axis = 1)"
   ]
  },
  {
   "cell_type": "code",
   "execution_count": 9,
   "id": "234618d7-7430-45d8-a212-ad2d6f80ac09",
   "metadata": {},
   "outputs": [],
   "source": [
    "data = data.drop('emp_title', axis = 1)"
   ]
  },
  {
   "cell_type": "code",
   "execution_count": 10,
   "id": "43d71995-d795-4b06-8aea-539888e71328",
   "metadata": {},
   "outputs": [],
   "source": [
    "data['emp_length'] = data['emp_length'].fillna(0)"
   ]
  },
  {
   "cell_type": "code",
   "execution_count": 11,
   "id": "d1f47b5b",
   "metadata": {},
   "outputs": [],
   "source": [
    "data['emp_length'] = data['emp_length'].replace(to_replace='[^0-9]+', value='', regex=True)"
   ]
  },
  {
   "cell_type": "code",
   "execution_count": 12,
   "id": "3c968642-e214-4b1e-9262-a21222e12e6b",
   "metadata": {},
   "outputs": [],
   "source": [
    "data['emp_length'] = data['emp_length'].astype('int')"
   ]
  },
  {
   "cell_type": "code",
   "execution_count": 13,
   "id": "02617600-7297-4aeb-a322-f6230ae9f094",
   "metadata": {},
   "outputs": [
    {
     "data": {
      "text/plain": [
       "Index(['loan_amnt', 'funded_amnt_inv', 'term', 'int_rate', 'installment',\n",
       "       'grade', 'sub_grade', 'emp_length', 'home_ownership', 'annual_inc',\n",
       "       ...\n",
       "       'num_tl_90g_dpd_24m', 'num_tl_op_past_12m', 'pct_tl_nvr_dlq',\n",
       "       'percent_bc_gt_75', 'pub_rec_bankruptcies', 'tax_liens',\n",
       "       'tot_hi_cred_lim', 'total_bal_ex_mort', 'total_bc_limit',\n",
       "       'total_il_high_credit_limit'],\n",
       "      dtype='object', length=106)"
      ]
     },
     "execution_count": 13,
     "metadata": {},
     "output_type": "execute_result"
    }
   ],
   "source": [
    "data.columns"
   ]
  },
  {
   "cell_type": "code",
   "execution_count": 17,
   "id": "9a590211-2cb6-4011-a268-bcddd35ee22d",
   "metadata": {},
   "outputs": [
    {
     "data": {
      "text/html": [
       "<div>\n",
       "<style scoped>\n",
       "    .dataframe tbody tr th:only-of-type {\n",
       "        vertical-align: middle;\n",
       "    }\n",
       "\n",
       "    .dataframe tbody tr th {\n",
       "        vertical-align: top;\n",
       "    }\n",
       "\n",
       "    .dataframe thead th {\n",
       "        text-align: right;\n",
       "    }\n",
       "</style>\n",
       "<table border=\"1\" class=\"dataframe\">\n",
       "  <thead>\n",
       "    <tr style=\"text-align: right;\">\n",
       "      <th></th>\n",
       "      <th>count</th>\n",
       "      <th>unique</th>\n",
       "      <th>top</th>\n",
       "      <th>freq</th>\n",
       "    </tr>\n",
       "  </thead>\n",
       "  <tbody>\n",
       "    <tr>\n",
       "      <th>term</th>\n",
       "      <td>99120</td>\n",
       "      <td>2</td>\n",
       "      <td>36 months</td>\n",
       "      <td>73898</td>\n",
       "    </tr>\n",
       "    <tr>\n",
       "      <th>int_rate</th>\n",
       "      <td>99120</td>\n",
       "      <td>49</td>\n",
       "      <td>11.49%</td>\n",
       "      <td>8316</td>\n",
       "    </tr>\n",
       "    <tr>\n",
       "      <th>grade</th>\n",
       "      <td>99120</td>\n",
       "      <td>7</td>\n",
       "      <td>C</td>\n",
       "      <td>32846</td>\n",
       "    </tr>\n",
       "    <tr>\n",
       "      <th>sub_grade</th>\n",
       "      <td>99120</td>\n",
       "      <td>35</td>\n",
       "      <td>B5</td>\n",
       "      <td>8322</td>\n",
       "    </tr>\n",
       "    <tr>\n",
       "      <th>home_ownership</th>\n",
       "      <td>99120</td>\n",
       "      <td>4</td>\n",
       "      <td>MORTGAGE</td>\n",
       "      <td>46761</td>\n",
       "    </tr>\n",
       "    <tr>\n",
       "      <th>verification_status</th>\n",
       "      <td>99120</td>\n",
       "      <td>3</td>\n",
       "      <td>Source Verified</td>\n",
       "      <td>40781</td>\n",
       "    </tr>\n",
       "    <tr>\n",
       "      <th>issue_d</th>\n",
       "      <td>99120</td>\n",
       "      <td>3</td>\n",
       "      <td>Aug-2016</td>\n",
       "      <td>36280</td>\n",
       "    </tr>\n",
       "    <tr>\n",
       "      <th>loan_status</th>\n",
       "      <td>99120</td>\n",
       "      <td>7</td>\n",
       "      <td>Current</td>\n",
       "      <td>79445</td>\n",
       "    </tr>\n",
       "    <tr>\n",
       "      <th>pymnt_plan</th>\n",
       "      <td>99120</td>\n",
       "      <td>2</td>\n",
       "      <td>n</td>\n",
       "      <td>99074</td>\n",
       "    </tr>\n",
       "    <tr>\n",
       "      <th>desc</th>\n",
       "      <td>6</td>\n",
       "      <td>5</td>\n",
       "      <td></td>\n",
       "      <td>2</td>\n",
       "    </tr>\n",
       "    <tr>\n",
       "      <th>purpose</th>\n",
       "      <td>99120</td>\n",
       "      <td>13</td>\n",
       "      <td>debt_consolidation</td>\n",
       "      <td>57682</td>\n",
       "    </tr>\n",
       "    <tr>\n",
       "      <th>title</th>\n",
       "      <td>93693</td>\n",
       "      <td>12</td>\n",
       "      <td>Debt consolidation</td>\n",
       "      <td>53999</td>\n",
       "    </tr>\n",
       "    <tr>\n",
       "      <th>zip_code</th>\n",
       "      <td>99120</td>\n",
       "      <td>873</td>\n",
       "      <td>112xx</td>\n",
       "      <td>1125</td>\n",
       "    </tr>\n",
       "    <tr>\n",
       "      <th>addr_state</th>\n",
       "      <td>99120</td>\n",
       "      <td>50</td>\n",
       "      <td>CA</td>\n",
       "      <td>13352</td>\n",
       "    </tr>\n",
       "    <tr>\n",
       "      <th>earliest_cr_line</th>\n",
       "      <td>99120</td>\n",
       "      <td>614</td>\n",
       "      <td>Aug-2003</td>\n",
       "      <td>796</td>\n",
       "    </tr>\n",
       "    <tr>\n",
       "      <th>revol_util</th>\n",
       "      <td>99060</td>\n",
       "      <td>1086</td>\n",
       "      <td>0%</td>\n",
       "      <td>440</td>\n",
       "    </tr>\n",
       "    <tr>\n",
       "      <th>initial_list_status</th>\n",
       "      <td>99120</td>\n",
       "      <td>2</td>\n",
       "      <td>w</td>\n",
       "      <td>71869</td>\n",
       "    </tr>\n",
       "    <tr>\n",
       "      <th>last_pymnt_d</th>\n",
       "      <td>98991</td>\n",
       "      <td>12</td>\n",
       "      <td>Jun-2017</td>\n",
       "      <td>81082</td>\n",
       "    </tr>\n",
       "    <tr>\n",
       "      <th>next_pymnt_d</th>\n",
       "      <td>83552</td>\n",
       "      <td>3</td>\n",
       "      <td>Jul-2017</td>\n",
       "      <td>83527</td>\n",
       "    </tr>\n",
       "    <tr>\n",
       "      <th>last_credit_pull_d</th>\n",
       "      <td>99115</td>\n",
       "      <td>13</td>\n",
       "      <td>Jun-2017</td>\n",
       "      <td>89280</td>\n",
       "    </tr>\n",
       "    <tr>\n",
       "      <th>application_type</th>\n",
       "      <td>99120</td>\n",
       "      <td>3</td>\n",
       "      <td>INDIVIDUAL</td>\n",
       "      <td>98565</td>\n",
       "    </tr>\n",
       "    <tr>\n",
       "      <th>verification_status_joint</th>\n",
       "      <td>517</td>\n",
       "      <td>1</td>\n",
       "      <td>Not Verified</td>\n",
       "      <td>517</td>\n",
       "    </tr>\n",
       "  </tbody>\n",
       "</table>\n",
       "</div>"
      ],
      "text/plain": [
       "                           count unique                 top   freq\n",
       "term                       99120      2           36 months  73898\n",
       "int_rate                   99120     49              11.49%   8316\n",
       "grade                      99120      7                   C  32846\n",
       "sub_grade                  99120     35                  B5   8322\n",
       "home_ownership             99120      4            MORTGAGE  46761\n",
       "verification_status        99120      3     Source Verified  40781\n",
       "issue_d                    99120      3            Aug-2016  36280\n",
       "loan_status                99120      7             Current  79445\n",
       "pymnt_plan                 99120      2                   n  99074\n",
       "desc                           6      5                          2\n",
       "purpose                    99120     13  debt_consolidation  57682\n",
       "title                      93693     12  Debt consolidation  53999\n",
       "zip_code                   99120    873               112xx   1125\n",
       "addr_state                 99120     50                  CA  13352\n",
       "earliest_cr_line           99120    614            Aug-2003    796\n",
       "revol_util                 99060   1086                  0%    440\n",
       "initial_list_status        99120      2                   w  71869\n",
       "last_pymnt_d               98991     12            Jun-2017  81082\n",
       "next_pymnt_d               83552      3            Jul-2017  83527\n",
       "last_credit_pull_d         99115     13            Jun-2017  89280\n",
       "application_type           99120      3          INDIVIDUAL  98565\n",
       "verification_status_joint    517      1        Not Verified    517"
      ]
     },
     "execution_count": 17,
     "metadata": {},
     "output_type": "execute_result"
    }
   ],
   "source": [
    "data.select_dtypes('object').describe().T"
   ]
  },
  {
   "cell_type": "code",
   "execution_count": 19,
   "id": "15c983d0-a956-4136-94f6-0aafc60ec8bf",
   "metadata": {},
   "outputs": [],
   "source": [
    "data = data.drop(['desc', 'verification_status_joint'], axis = 1)"
   ]
  },
  {
   "cell_type": "code",
   "execution_count": 21,
   "id": "df70bc7b-822c-41a3-9c32-5e8388649c25",
   "metadata": {},
   "outputs": [],
   "source": [
    "data = data.drop(['zip_code', 'addr_state', 'earliest_cr_line', 'revol_util'], axis = 1)"
   ]
  },
  {
   "cell_type": "code",
   "execution_count": 22,
   "id": "6a83b806-443b-45df-9bf2-ccaceb277b71",
   "metadata": {},
   "outputs": [],
   "source": [
    "data = data.drop(['purpose', 'title', 'term', 'issue_d'], axis = 1)"
   ]
  },
  {
   "cell_type": "code",
   "execution_count": 26,
   "id": "f090753e-05b9-4af9-9db5-9ee01d664262",
   "metadata": {},
   "outputs": [],
   "source": [
    "data.drop(['out_prncp','out_prncp_inv','total_pymnt',\n",
    "         'total_pymnt_inv','total_rec_prncp', 'grade', 'sub_grade'], axis = 1, inplace=True)\n",
    "data.drop(['total_rec_int','total_rec_late_fee',\n",
    "         'recoveries','collection_recovery_fee',\n",
    "         'collection_recovery_fee' ], axis = 1, inplace=True)\n",
    "data.drop(['last_pymnt_d','last_pymnt_amnt',\n",
    "         'next_pymnt_d','last_credit_pull_d'], axis = 1, inplace=True)\n",
    "data.drop(['policy_code'], axis = 1, inplace=True)"
   ]
  },
  {
   "cell_type": "code",
   "execution_count": 27,
   "id": "e20bc3e8-1bd0-4f03-8dc3-05f234ce5ff3",
   "metadata": {},
   "outputs": [
    {
     "data": {
      "text/plain": [
       "(99120, 80)"
      ]
     },
     "execution_count": 27,
     "metadata": {},
     "output_type": "execute_result"
    }
   ],
   "source": [
    "data.shape"
   ]
  },
  {
   "cell_type": "code",
   "execution_count": 33,
   "id": "a4bfc24f-926a-499a-b6f6-9c117f4b948f",
   "metadata": {},
   "outputs": [],
   "source": [
    "data['int_rate'] = data['int_rate'].str.replace('%', '').astype('float')"
   ]
  },
  {
   "cell_type": "code",
   "execution_count": 39,
   "id": "760740da-b14e-408d-9775-81daeaa41e33",
   "metadata": {
    "tags": []
   },
   "outputs": [
    {
     "data": {
      "text/html": [
       "<div>\n",
       "<style scoped>\n",
       "    .dataframe tbody tr th:only-of-type {\n",
       "        vertical-align: middle;\n",
       "    }\n",
       "\n",
       "    .dataframe tbody tr th {\n",
       "        vertical-align: top;\n",
       "    }\n",
       "\n",
       "    .dataframe thead th {\n",
       "        text-align: right;\n",
       "    }\n",
       "</style>\n",
       "<table border=\"1\" class=\"dataframe\">\n",
       "  <thead>\n",
       "    <tr style=\"text-align: right;\">\n",
       "      <th></th>\n",
       "      <th>count</th>\n",
       "      <th>mean</th>\n",
       "      <th>std</th>\n",
       "      <th>min</th>\n",
       "      <th>25%</th>\n",
       "      <th>50%</th>\n",
       "      <th>75%</th>\n",
       "      <th>max</th>\n",
       "      <th>missing_pct</th>\n",
       "    </tr>\n",
       "  </thead>\n",
       "  <tbody>\n",
       "    <tr>\n",
       "      <th>loan_amnt</th>\n",
       "      <td>99120.0</td>\n",
       "      <td>14170.570521</td>\n",
       "      <td>8886.138758</td>\n",
       "      <td>1000.00</td>\n",
       "      <td>7200.00</td>\n",
       "      <td>12000.00</td>\n",
       "      <td>20000.00</td>\n",
       "      <td>40000.00</td>\n",
       "      <td>0.0</td>\n",
       "    </tr>\n",
       "    <tr>\n",
       "      <th>funded_amnt_inv</th>\n",
       "      <td>99120.0</td>\n",
       "      <td>14166.087823</td>\n",
       "      <td>8883.301328</td>\n",
       "      <td>1000.00</td>\n",
       "      <td>7200.00</td>\n",
       "      <td>12000.00</td>\n",
       "      <td>20000.00</td>\n",
       "      <td>40000.00</td>\n",
       "      <td>0.0</td>\n",
       "    </tr>\n",
       "    <tr>\n",
       "      <th>int_rate</th>\n",
       "      <td>99120.0</td>\n",
       "      <td>13.723641</td>\n",
       "      <td>4.873910</td>\n",
       "      <td>5.32</td>\n",
       "      <td>10.49</td>\n",
       "      <td>12.79</td>\n",
       "      <td>15.59</td>\n",
       "      <td>30.99</td>\n",
       "      <td>0.0</td>\n",
       "    </tr>\n",
       "    <tr>\n",
       "      <th>installment</th>\n",
       "      <td>99120.0</td>\n",
       "      <td>432.718654</td>\n",
       "      <td>272.678596</td>\n",
       "      <td>30.12</td>\n",
       "      <td>235.24</td>\n",
       "      <td>361.38</td>\n",
       "      <td>569.83</td>\n",
       "      <td>1535.71</td>\n",
       "      <td>0.0</td>\n",
       "    </tr>\n",
       "    <tr>\n",
       "      <th>annual_inc</th>\n",
       "      <td>99120.0</td>\n",
       "      <td>78488.850081</td>\n",
       "      <td>72694.186060</td>\n",
       "      <td>0.00</td>\n",
       "      <td>48000.00</td>\n",
       "      <td>65448.00</td>\n",
       "      <td>94000.00</td>\n",
       "      <td>8400000.00</td>\n",
       "      <td>0.0</td>\n",
       "    </tr>\n",
       "    <tr>\n",
       "      <th>...</th>\n",
       "      <td>...</td>\n",
       "      <td>...</td>\n",
       "      <td>...</td>\n",
       "      <td>...</td>\n",
       "      <td>...</td>\n",
       "      <td>...</td>\n",
       "      <td>...</td>\n",
       "      <td>...</td>\n",
       "      <td>...</td>\n",
       "    </tr>\n",
       "    <tr>\n",
       "      <th>tax_liens</th>\n",
       "      <td>99120.0</td>\n",
       "      <td>0.075393</td>\n",
       "      <td>0.517275</td>\n",
       "      <td>0.00</td>\n",
       "      <td>0.00</td>\n",
       "      <td>0.00</td>\n",
       "      <td>0.00</td>\n",
       "      <td>61.00</td>\n",
       "      <td>0.0</td>\n",
       "    </tr>\n",
       "    <tr>\n",
       "      <th>tot_hi_cred_lim</th>\n",
       "      <td>99120.0</td>\n",
       "      <td>172185.283394</td>\n",
       "      <td>175273.669652</td>\n",
       "      <td>2500.00</td>\n",
       "      <td>49130.75</td>\n",
       "      <td>108020.50</td>\n",
       "      <td>248473.25</td>\n",
       "      <td>3953111.00</td>\n",
       "      <td>0.0</td>\n",
       "    </tr>\n",
       "    <tr>\n",
       "      <th>total_bal_ex_mort</th>\n",
       "      <td>99120.0</td>\n",
       "      <td>50818.694078</td>\n",
       "      <td>48976.640478</td>\n",
       "      <td>0.00</td>\n",
       "      <td>20913.00</td>\n",
       "      <td>37747.50</td>\n",
       "      <td>64216.25</td>\n",
       "      <td>1548128.00</td>\n",
       "      <td>0.0</td>\n",
       "    </tr>\n",
       "    <tr>\n",
       "      <th>total_bc_limit</th>\n",
       "      <td>99120.0</td>\n",
       "      <td>20862.228420</td>\n",
       "      <td>20721.900664</td>\n",
       "      <td>0.00</td>\n",
       "      <td>7700.00</td>\n",
       "      <td>14700.00</td>\n",
       "      <td>27000.00</td>\n",
       "      <td>520500.00</td>\n",
       "      <td>0.0</td>\n",
       "    </tr>\n",
       "    <tr>\n",
       "      <th>total_il_high_credit_limit</th>\n",
       "      <td>99120.0</td>\n",
       "      <td>44066.340375</td>\n",
       "      <td>44473.458730</td>\n",
       "      <td>0.00</td>\n",
       "      <td>15750.00</td>\n",
       "      <td>33183.00</td>\n",
       "      <td>58963.25</td>\n",
       "      <td>2000000.00</td>\n",
       "      <td>0.0</td>\n",
       "    </tr>\n",
       "  </tbody>\n",
       "</table>\n",
       "<p>73 rows × 9 columns</p>\n",
       "</div>"
      ],
      "text/plain": [
       "                              count           mean            std      min   \n",
       "loan_amnt                   99120.0   14170.570521    8886.138758  1000.00  \\\n",
       "funded_amnt_inv             99120.0   14166.087823    8883.301328  1000.00   \n",
       "int_rate                    99120.0      13.723641       4.873910     5.32   \n",
       "installment                 99120.0     432.718654     272.678596    30.12   \n",
       "annual_inc                  99120.0   78488.850081   72694.186060     0.00   \n",
       "...                             ...            ...            ...      ...   \n",
       "tax_liens                   99120.0       0.075393       0.517275     0.00   \n",
       "tot_hi_cred_lim             99120.0  172185.283394  175273.669652  2500.00   \n",
       "total_bal_ex_mort           99120.0   50818.694078   48976.640478     0.00   \n",
       "total_bc_limit              99120.0   20862.228420   20721.900664     0.00   \n",
       "total_il_high_credit_limit  99120.0   44066.340375   44473.458730     0.00   \n",
       "\n",
       "                                 25%        50%        75%         max   \n",
       "loan_amnt                    7200.00   12000.00   20000.00    40000.00  \\\n",
       "funded_amnt_inv              7200.00   12000.00   20000.00    40000.00   \n",
       "int_rate                       10.49      12.79      15.59       30.99   \n",
       "installment                   235.24     361.38     569.83     1535.71   \n",
       "annual_inc                  48000.00   65448.00   94000.00  8400000.00   \n",
       "...                              ...        ...        ...         ...   \n",
       "tax_liens                       0.00       0.00       0.00       61.00   \n",
       "tot_hi_cred_lim             49130.75  108020.50  248473.25  3953111.00   \n",
       "total_bal_ex_mort           20913.00   37747.50   64216.25  1548128.00   \n",
       "total_bc_limit               7700.00   14700.00   27000.00   520500.00   \n",
       "total_il_high_credit_limit  15750.00   33183.00   58963.25  2000000.00   \n",
       "\n",
       "                            missing_pct  \n",
       "loan_amnt                           0.0  \n",
       "funded_amnt_inv                     0.0  \n",
       "int_rate                            0.0  \n",
       "installment                         0.0  \n",
       "annual_inc                          0.0  \n",
       "...                                 ...  \n",
       "tax_liens                           0.0  \n",
       "tot_hi_cred_lim                     0.0  \n",
       "total_bal_ex_mort                   0.0  \n",
       "total_bc_limit                      0.0  \n",
       "total_il_high_credit_limit          0.0  \n",
       "\n",
       "[73 rows x 9 columns]"
      ]
     },
     "execution_count": 39,
     "metadata": {},
     "output_type": "execute_result"
    }
   ],
   "source": [
    "data.select_dtypes('float').describe().T.\\\n",
    "assign(missing_pct = data.select_dtypes('float').apply(lambda x: (len(x)-x.count())/len(x)))"
   ]
  },
  {
   "cell_type": "code",
   "execution_count": 58,
   "id": "026b1cca-2dc6-4b82-870c-28e7846d5194",
   "metadata": {},
   "outputs": [],
   "source": [
    "temp = data.select_dtypes('float').describe().T[data.select_dtypes('float').describe().T['count']<2000].index.tolist()"
   ]
  },
  {
   "cell_type": "code",
   "execution_count": 71,
   "id": "b0665d09-4a00-4bbc-b169-c76f5b012c61",
   "metadata": {},
   "outputs": [
    {
     "data": {
      "text/html": [
       "<div>\n",
       "<style scoped>\n",
       "    .dataframe tbody tr th:only-of-type {\n",
       "        vertical-align: middle;\n",
       "    }\n",
       "\n",
       "    .dataframe tbody tr th {\n",
       "        vertical-align: top;\n",
       "    }\n",
       "\n",
       "    .dataframe thead th {\n",
       "        text-align: right;\n",
       "    }\n",
       "</style>\n",
       "<table border=\"1\" class=\"dataframe\">\n",
       "  <thead>\n",
       "    <tr style=\"text-align: right;\">\n",
       "      <th></th>\n",
       "      <th>loan_amnt</th>\n",
       "      <th>funded_amnt_inv</th>\n",
       "      <th>int_rate</th>\n",
       "      <th>installment</th>\n",
       "      <th>annual_inc</th>\n",
       "      <th>dti</th>\n",
       "      <th>delinq_2yrs</th>\n",
       "      <th>inq_last_6mths</th>\n",
       "      <th>mths_since_last_delinq</th>\n",
       "      <th>mths_since_last_record</th>\n",
       "      <th>...</th>\n",
       "      <th>num_tl_90g_dpd_24m</th>\n",
       "      <th>num_tl_op_past_12m</th>\n",
       "      <th>pct_tl_nvr_dlq</th>\n",
       "      <th>percent_bc_gt_75</th>\n",
       "      <th>pub_rec_bankruptcies</th>\n",
       "      <th>tax_liens</th>\n",
       "      <th>tot_hi_cred_lim</th>\n",
       "      <th>total_bal_ex_mort</th>\n",
       "      <th>total_bc_limit</th>\n",
       "      <th>total_il_high_credit_limit</th>\n",
       "    </tr>\n",
       "  </thead>\n",
       "  <tbody>\n",
       "    <tr>\n",
       "      <th>count</th>\n",
       "      <td>99120.000000</td>\n",
       "      <td>99120.000000</td>\n",
       "      <td>99120.000000</td>\n",
       "      <td>99120.000000</td>\n",
       "      <td>99120.000000</td>\n",
       "      <td>99120.000000</td>\n",
       "      <td>99120.000000</td>\n",
       "      <td>99120.000000</td>\n",
       "      <td>53366.000000</td>\n",
       "      <td>19792.000000</td>\n",
       "      <td>...</td>\n",
       "      <td>99120.000000</td>\n",
       "      <td>99120.000000</td>\n",
       "      <td>99120.000000</td>\n",
       "      <td>98006.000000</td>\n",
       "      <td>99120.000000</td>\n",
       "      <td>99120.000000</td>\n",
       "      <td>99120.000000</td>\n",
       "      <td>99120.000000</td>\n",
       "      <td>99120.000000</td>\n",
       "      <td>99120.000000</td>\n",
       "    </tr>\n",
       "    <tr>\n",
       "      <th>mean</th>\n",
       "      <td>14170.570521</td>\n",
       "      <td>14166.087823</td>\n",
       "      <td>13.723641</td>\n",
       "      <td>432.718654</td>\n",
       "      <td>78488.850081</td>\n",
       "      <td>18.348651</td>\n",
       "      <td>0.381901</td>\n",
       "      <td>0.570521</td>\n",
       "      <td>33.229172</td>\n",
       "      <td>67.267886</td>\n",
       "      <td>...</td>\n",
       "      <td>0.101332</td>\n",
       "      <td>2.254752</td>\n",
       "      <td>93.262828</td>\n",
       "      <td>42.681332</td>\n",
       "      <td>0.150262</td>\n",
       "      <td>0.075393</td>\n",
       "      <td>172185.283394</td>\n",
       "      <td>50818.694078</td>\n",
       "      <td>20862.228420</td>\n",
       "      <td>44066.340375</td>\n",
       "    </tr>\n",
       "    <tr>\n",
       "      <th>std</th>\n",
       "      <td>8886.138758</td>\n",
       "      <td>8883.301328</td>\n",
       "      <td>4.873910</td>\n",
       "      <td>272.678596</td>\n",
       "      <td>72694.186060</td>\n",
       "      <td>64.057603</td>\n",
       "      <td>0.988996</td>\n",
       "      <td>0.863796</td>\n",
       "      <td>21.820407</td>\n",
       "      <td>24.379343</td>\n",
       "      <td>...</td>\n",
       "      <td>0.567112</td>\n",
       "      <td>1.960084</td>\n",
       "      <td>9.696646</td>\n",
       "      <td>36.296425</td>\n",
       "      <td>0.407706</td>\n",
       "      <td>0.517275</td>\n",
       "      <td>175273.669652</td>\n",
       "      <td>48976.640478</td>\n",
       "      <td>20721.900664</td>\n",
       "      <td>44473.458730</td>\n",
       "    </tr>\n",
       "    <tr>\n",
       "      <th>min</th>\n",
       "      <td>1000.000000</td>\n",
       "      <td>1000.000000</td>\n",
       "      <td>5.320000</td>\n",
       "      <td>30.120000</td>\n",
       "      <td>0.000000</td>\n",
       "      <td>0.000000</td>\n",
       "      <td>0.000000</td>\n",
       "      <td>0.000000</td>\n",
       "      <td>0.000000</td>\n",
       "      <td>0.000000</td>\n",
       "      <td>...</td>\n",
       "      <td>0.000000</td>\n",
       "      <td>0.000000</td>\n",
       "      <td>0.000000</td>\n",
       "      <td>0.000000</td>\n",
       "      <td>0.000000</td>\n",
       "      <td>0.000000</td>\n",
       "      <td>2500.000000</td>\n",
       "      <td>0.000000</td>\n",
       "      <td>0.000000</td>\n",
       "      <td>0.000000</td>\n",
       "    </tr>\n",
       "    <tr>\n",
       "      <th>25%</th>\n",
       "      <td>7200.000000</td>\n",
       "      <td>7200.000000</td>\n",
       "      <td>10.490000</td>\n",
       "      <td>235.240000</td>\n",
       "      <td>48000.000000</td>\n",
       "      <td>11.910000</td>\n",
       "      <td>0.000000</td>\n",
       "      <td>0.000000</td>\n",
       "      <td>15.000000</td>\n",
       "      <td>52.000000</td>\n",
       "      <td>...</td>\n",
       "      <td>0.000000</td>\n",
       "      <td>1.000000</td>\n",
       "      <td>90.000000</td>\n",
       "      <td>0.000000</td>\n",
       "      <td>0.000000</td>\n",
       "      <td>0.000000</td>\n",
       "      <td>49130.750000</td>\n",
       "      <td>20913.000000</td>\n",
       "      <td>7700.000000</td>\n",
       "      <td>15750.000000</td>\n",
       "    </tr>\n",
       "  </tbody>\n",
       "</table>\n",
       "<p>5 rows × 71 columns</p>\n",
       "</div>"
      ],
      "text/plain": [
       "          loan_amnt  funded_amnt_inv      int_rate   installment   \n",
       "count  99120.000000     99120.000000  99120.000000  99120.000000  \\\n",
       "mean   14170.570521     14166.087823     13.723641    432.718654   \n",
       "std     8886.138758      8883.301328      4.873910    272.678596   \n",
       "min     1000.000000      1000.000000      5.320000     30.120000   \n",
       "25%     7200.000000      7200.000000     10.490000    235.240000   \n",
       "\n",
       "         annual_inc           dti   delinq_2yrs  inq_last_6mths   \n",
       "count  99120.000000  99120.000000  99120.000000    99120.000000  \\\n",
       "mean   78488.850081     18.348651      0.381901        0.570521   \n",
       "std    72694.186060     64.057603      0.988996        0.863796   \n",
       "min        0.000000      0.000000      0.000000        0.000000   \n",
       "25%    48000.000000     11.910000      0.000000        0.000000   \n",
       "\n",
       "       mths_since_last_delinq  mths_since_last_record  ...   \n",
       "count            53366.000000            19792.000000  ...  \\\n",
       "mean                33.229172               67.267886  ...   \n",
       "std                 21.820407               24.379343  ...   \n",
       "min                  0.000000                0.000000  ...   \n",
       "25%                 15.000000               52.000000  ...   \n",
       "\n",
       "       num_tl_90g_dpd_24m  num_tl_op_past_12m  pct_tl_nvr_dlq   \n",
       "count        99120.000000        99120.000000    99120.000000  \\\n",
       "mean             0.101332            2.254752       93.262828   \n",
       "std              0.567112            1.960084        9.696646   \n",
       "min              0.000000            0.000000        0.000000   \n",
       "25%              0.000000            1.000000       90.000000   \n",
       "\n",
       "       percent_bc_gt_75  pub_rec_bankruptcies     tax_liens  tot_hi_cred_lim   \n",
       "count      98006.000000          99120.000000  99120.000000     99120.000000  \\\n",
       "mean          42.681332              0.150262      0.075393    172185.283394   \n",
       "std           36.296425              0.407706      0.517275    175273.669652   \n",
       "min            0.000000              0.000000      0.000000      2500.000000   \n",
       "25%            0.000000              0.000000      0.000000     49130.750000   \n",
       "\n",
       "       total_bal_ex_mort  total_bc_limit  total_il_high_credit_limit  \n",
       "count       99120.000000    99120.000000                99120.000000  \n",
       "mean        50818.694078    20862.228420                44066.340375  \n",
       "std         48976.640478    20721.900664                44473.458730  \n",
       "min             0.000000        0.000000                    0.000000  \n",
       "25%         20913.000000     7700.000000                15750.000000  \n",
       "\n",
       "[5 rows x 71 columns]"
      ]
     },
     "execution_count": 71,
     "metadata": {},
     "output_type": "execute_result"
    }
   ],
   "source": [
    "data.select_dtypes('float').describe().head()"
   ]
  },
  {
   "cell_type": "code",
   "execution_count": 60,
   "id": "140bc97b-6026-41ed-a685-40dc60008efe",
   "metadata": {},
   "outputs": [],
   "source": [
    "data = data.drop(temp, axis = 1)"
   ]
  },
  {
   "cell_type": "code",
   "execution_count": 78,
   "id": "fb47b543-dc5d-4675-a0c4-a0b0e3354ac4",
   "metadata": {},
   "outputs": [
    {
     "data": {
      "text/plain": [
       "(7,)"
      ]
     },
     "execution_count": 78,
     "metadata": {},
     "output_type": "execute_result"
    }
   ],
   "source": [
    "data['loan_status'].unique().shape"
   ]
  },
  {
   "cell_type": "code",
   "execution_count": 80,
   "id": "96f8e4c0-2649-45a2-8d62-d710d0cfe50d",
   "metadata": {},
   "outputs": [],
   "source": [
    "for item in data['loan_status'].unique().tolist():\n",
    "    if item in ['Fully Paid', 'Current']:\n",
    "        data['loan_status'] = data['loan_status'].replace(item, int(1))\n",
    "    elif 'Late' in item:\n",
    "        data['loan_status'] = data['loan_status'].replace(item, int(0))\n",
    "    else:\n",
    "        data['loan_status'] = data['loan_status'].replace(item, np.nan)"
   ]
  },
  {
   "cell_type": "code",
   "execution_count": 81,
   "id": "e9c07334-10c4-4b4c-9d98-8d4d74872acf",
   "metadata": {},
   "outputs": [
    {
     "data": {
      "text/plain": [
       "loan_status\n",
       "1.0    92511\n",
       "0.0     2699\n",
       "Name: count, dtype: int64"
      ]
     },
     "execution_count": 81,
     "metadata": {},
     "output_type": "execute_result"
    }
   ],
   "source": [
    "data['loan_status'].value_counts()"
   ]
  },
  {
   "cell_type": "code",
   "execution_count": 126,
   "id": "8df9fa71-f013-4b97-a1dd-e94084e48710",
   "metadata": {},
   "outputs": [],
   "source": [
    "cor = data.select_dtypes(['float', 'int']).corr()"
   ]
  },
  {
   "cell_type": "code",
   "execution_count": 127,
   "id": "1ad82903-b8a1-496f-a681-292cf596bbaf",
   "metadata": {},
   "outputs": [],
   "source": [
    "cor.loc[:,:] = np.tril(cor, k=-1)"
   ]
  },
  {
   "cell_type": "code",
   "execution_count": 128,
   "id": "cc6f93a4-a8f5-44d2-946d-22c70c47b3f9",
   "metadata": {},
   "outputs": [],
   "source": [
    "cor = cor.stack()"
   ]
  },
  {
   "cell_type": "code",
   "execution_count": 140,
   "id": "c89f912f-b6fa-4130-8fab-89b390f75e5f",
   "metadata": {},
   "outputs": [],
   "source": [
    "hi_cor_list = cor[(cor > 0.9) | (cor < -0.9)].sort_values(ascending=False)"
   ]
  },
  {
   "cell_type": "code",
   "execution_count": 148,
   "id": "e8b4ae23-c902-4675-bd93-bf454991becc",
   "metadata": {},
   "outputs": [],
   "source": [
    "name_list = []\n",
    "for item in hi_cor_list.index:\n",
    "    if item[0] not in name_list:\n",
    "        if item[0] in data.columns:\n",
    "            name_list.append(item[0])"
   ]
  },
  {
   "cell_type": "code",
   "execution_count": 149,
   "id": "a384c739-28fe-4b99-a9f3-6ef26480f11b",
   "metadata": {},
   "outputs": [
    {
     "data": {
      "text/plain": [
       "['funded_amnt_inv',\n",
       " 'num_sats',\n",
       " 'tot_hi_cred_lim',\n",
       " 'num_rev_tl_bal_gt_0',\n",
       " 'total_il_high_credit_limit',\n",
       " 'installment',\n",
       " 'total_bal_ex_mort']"
      ]
     },
     "execution_count": 149,
     "metadata": {},
     "output_type": "execute_result"
    }
   ],
   "source": [
    "name_list"
   ]
  },
  {
   "cell_type": "code",
   "execution_count": 151,
   "id": "43fb931c-6685-4637-95b0-3277a64e7af2",
   "metadata": {},
   "outputs": [],
   "source": [
    "data = data.drop(name_list, axis = 1)"
   ]
  },
  {
   "cell_type": "code",
   "execution_count": 153,
   "id": "7520f16b-0c98-4e13-9634-b149b7f68b43",
   "metadata": {},
   "outputs": [
    {
     "data": {
      "text/plain": [
       "home_ownership         object\n",
       "verification_status    object\n",
       "pymnt_plan             object\n",
       "initial_list_status    object\n",
       "application_type       object\n",
       "dtype: object"
      ]
     },
     "execution_count": 153,
     "metadata": {},
     "output_type": "execute_result"
    }
   ],
   "source": [
    "data.dtypes[data.dtypes == object]"
   ]
  },
  {
   "cell_type": "code",
   "execution_count": 177,
   "id": "c4cbe68c-273d-4985-b267-ea823b0ecfc8",
   "metadata": {},
   "outputs": [],
   "source": [
    "data = data.fillna(-1)"
   ]
  },
  {
   "cell_type": "code",
   "execution_count": 177,
   "id": "6b16e92c",
   "metadata": {},
   "outputs": [],
   "source": [
    "data = data.fillna(-1)"
   ]
  },
  {
   "cell_type": "code",
   "execution_count": 178,
   "id": "2cac02ac-fe95-469a-bd0f-368136ac879e",
   "metadata": {},
   "outputs": [],
   "source": [
    "X = data.drop('loan_status', axis = 1)\n",
    "Y = data['loan_status']\n",
    "X = pd.get_dummies(X)"
   ]
  },
  {
   "cell_type": "code",
   "execution_count": 179,
   "id": "1e7e7865-fca2-44a6-8fba-ea3b4e65233c",
   "metadata": {},
   "outputs": [
    {
     "data": {
      "text/plain": [
       "(99120, 79)"
      ]
     },
     "execution_count": 179,
     "metadata": {},
     "output_type": "execute_result"
    }
   ],
   "source": [
    "X.shape"
   ]
  },
  {
   "cell_type": "code",
   "execution_count": 180,
   "id": "d7f9cf9a-61ea-4dc8-ba45-c8ef061b0c4e",
   "metadata": {},
   "outputs": [],
   "source": [
    "x_train, x_test, y_train, y_test = train_test_split(X, Y, test_size=0.3, random_state= 99, shuffle=True)"
   ]
  },
  {
   "cell_type": "code",
   "execution_count": 181,
   "id": "1b5b883f-7806-4850-a452-427f8a1000a3",
   "metadata": {},
   "outputs": [],
   "source": [
    "param_grid = {'learning_rate': [0.1, 0.05, 0.02, 0.01],\n",
    "              'max_depth': [1,2,3,4],\n",
    "              'min_samples_split': [50,100,200,400],\n",
    "              'n_estimators': [100,200,400,800]\n",
    "              }"
   ]
  },
  {
   "cell_type": "code",
   "execution_count": 162,
   "id": "83405bfe-3bc3-41ea-996f-255a418aee3b",
   "metadata": {},
   "outputs": [],
   "source": [
    "grid = GridSearchCV(ensemble.GradientBoostingRegressor(), param_grid, n_jobs=4, refit=True)"
   ]
  },
  {
   "cell_type": "code",
   "execution_count": null,
   "id": "806c05ea-af49-4b77-b10f-d1acca9f9f74",
   "metadata": {},
   "outputs": [],
   "source": [
    "grid_class.fit(x_train, y_train)"
   ]
  },
  {
   "cell_type": "code",
   "execution_count": 183,
   "id": "9ccb52b4-af1e-432e-8cfa-0c31ec368ae5",
   "metadata": {},
   "outputs": [
    {
     "data": {
      "text/plain": [
       "{'learning_rate': 0.02,\n",
       " 'max_depth': 2,\n",
       " 'min_samples_split': 400,\n",
       " 'n_estimators': 800}"
      ]
     },
     "execution_count": 183,
     "metadata": {},
     "output_type": "execute_result"
    }
   ],
   "source": [
    "grid.best_params_"
   ]
  },
  {
   "cell_type": "code",
   "execution_count": 184,
   "id": "ee65bdd7-f152-45ba-800a-0186a6cd3b9c",
   "metadata": {},
   "outputs": [
    {
     "data": {
      "text/plain": [
       "159"
      ]
     },
     "execution_count": 184,
     "metadata": {},
     "output_type": "execute_result"
    }
   ],
   "source": [
    "grid.best_index_"
   ]
  },
  {
   "cell_type": "code",
   "execution_count": 185,
   "id": "e638bfcc-1709-45a0-93c8-aacccb8e6b42",
   "metadata": {},
   "outputs": [
    {
     "data": {
      "text/plain": [
       "0.03298888683432986"
      ]
     },
     "execution_count": 185,
     "metadata": {},
     "output_type": "execute_result"
    }
   ],
   "source": [
    "grid.best_score_"
   ]
  },
  {
   "cell_type": "code",
   "execution_count": 187,
   "id": "3b41f003-b1ef-43cb-9326-f99ce44d7172",
   "metadata": {},
   "outputs": [
    {
     "data": {
      "text/plain": [
       "array([0.84229392, 0.96175584, 0.96189357, ..., 0.63663272, 0.91668012,\n",
       "       0.88254282])"
      ]
     },
     "execution_count": 187,
     "metadata": {},
     "output_type": "execute_result"
    }
   ],
   "source": [
    "grid.best_estimator_.predict(x_test)"
   ]
  },
  {
   "cell_type": "code",
   "execution_count": 188,
   "id": "f7dec0ff-df81-41dc-af23-8c93ab32fd1e",
   "metadata": {},
   "outputs": [
    {
     "data": {
      "text/plain": [
       "93153    1.0\n",
       "27880    1.0\n",
       "59859    1.0\n",
       "16739    1.0\n",
       "71587    1.0\n",
       "        ... \n",
       "37180    1.0\n",
       "31302    1.0\n",
       "84776    1.0\n",
       "51780    1.0\n",
       "88123    1.0\n",
       "Name: loan_status, Length: 29736, dtype: float64"
      ]
     },
     "execution_count": 188,
     "metadata": {},
     "output_type": "execute_result"
    }
   ],
   "source": [
    "y_test"
   ]
  },
  {
   "cell_type": "code",
   "execution_count": 189,
   "id": "9739dd7e-e581-48f2-8757-e53744529f30",
   "metadata": {},
   "outputs": [],
   "source": [
    "grid_class = GridSearchCV(ensemble.GradientBoostingClassifier(), param_grid, n_jobs=4, refit=True)"
   ]
  },
  {
   "cell_type": "code",
   "execution_count": null,
   "id": "b8f3035d",
   "metadata": {},
   "outputs": [],
   "source": [
    "grid_class.fit(x_train, y_train)"
   ]
  },
  {
   "cell_type": "code",
   "execution_count": null,
   "id": "97154a96-120b-4c8a-8de8-81e608925c8b",
   "metadata": {},
   "outputs": [],
   "source": []
  }
 ],
 "metadata": {
  "kernelspec": {
   "display_name": "Python 3 (ipykernel)",
   "language": "python",
   "name": "python3"
  },
  "language_info": {
   "codemirror_mode": {
    "name": "ipython",
    "version": 3
   },
   "file_extension": ".py",
   "mimetype": "text/x-python",
   "name": "python",
   "nbconvert_exporter": "python",
   "pygments_lexer": "ipython3",
   "version": "3.10.9"
  }
 },
 "nbformat": 4,
 "nbformat_minor": 5
}
